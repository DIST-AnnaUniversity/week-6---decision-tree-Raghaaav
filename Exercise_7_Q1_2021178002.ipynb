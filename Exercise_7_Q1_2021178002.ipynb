{
  "nbformat": 4,
  "nbformat_minor": 0,
  "metadata": {
    "colab": {
      "provenance": []
    },
    "kernelspec": {
      "name": "python3",
      "display_name": "Python 3"
    },
    "language_info": {
      "name": "python"
    }
  },
  "cells": [
    {
      "cell_type": "markdown",
      "source": [
        "![11.PNG](data:image/png;base64,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)"
      ],
      "metadata": {
        "id": "nKw1Iaox_TS6"
      }
    },
    {
      "cell_type": "code",
      "execution_count": 1,
      "metadata": {
        "id": "VYus2x844NVg"
      },
      "outputs": [],
      "source": [
        "import pandas as pd"
      ]
    },
    {
      "cell_type": "code",
      "source": [
        "from sklearn import tree"
      ],
      "metadata": {
        "id": "cNDPWIP16zQ2"
      },
      "execution_count": 21,
      "outputs": []
    },
    {
      "cell_type": "code",
      "source": [
        "from sklearn.tree import DecisionTreeClassifier"
      ],
      "metadata": {
        "id": "AAkAW_zv63du"
      },
      "execution_count": 3,
      "outputs": []
    },
    {
      "cell_type": "code",
      "source": [
        "df = pd.read_csv(\"DT.csv\")"
      ],
      "metadata": {
        "id": "obHHqEvM67D2"
      },
      "execution_count": 5,
      "outputs": []
    },
    {
      "cell_type": "code",
      "source": [
        "df"
      ],
      "metadata": {
        "colab": {
          "base_uri": "https://localhost:8080/",
          "height": 457
        },
        "id": "_HSyutTr77-v",
        "outputId": "103b6615-868b-4c40-fb21-27fd10009c86"
      },
      "execution_count": 7,
      "outputs": [
        {
          "output_type": "execute_result",
          "data": {
            "text/plain": [
              "    Age  Experience  Rank Nationality   Go\n",
              "0    36          10     9          UK   NO\n",
              "1    42          12     4         USA   NO\n",
              "2    23           4     6           N   NO\n",
              "3    52           4     4         USA   NO\n",
              "4    43          21     8         USA  YES\n",
              "5    44          14     5          UK   NO\n",
              "6    66           3     7           N  YES\n",
              "7    35          14     9          UK  YES\n",
              "8    52          13     7           N  YES\n",
              "9    35           5     9           N  YES\n",
              "10   24           3     5         USA   NO\n",
              "11   18           3     7          UK  YES\n",
              "12   45           9     9          UK  YES"
            ],
            "text/html": [
              "\n",
              "  <div id=\"df-dc4f9a20-bde4-44a9-8bcd-1450c312af5c\">\n",
              "    <div class=\"colab-df-container\">\n",
              "      <div>\n",
              "<style scoped>\n",
              "    .dataframe tbody tr th:only-of-type {\n",
              "        vertical-align: middle;\n",
              "    }\n",
              "\n",
              "    .dataframe tbody tr th {\n",
              "        vertical-align: top;\n",
              "    }\n",
              "\n",
              "    .dataframe thead th {\n",
              "        text-align: right;\n",
              "    }\n",
              "</style>\n",
              "<table border=\"1\" class=\"dataframe\">\n",
              "  <thead>\n",
              "    <tr style=\"text-align: right;\">\n",
              "      <th></th>\n",
              "      <th>Age</th>\n",
              "      <th>Experience</th>\n",
              "      <th>Rank</th>\n",
              "      <th>Nationality</th>\n",
              "      <th>Go</th>\n",
              "    </tr>\n",
              "  </thead>\n",
              "  <tbody>\n",
              "    <tr>\n",
              "      <th>0</th>\n",
              "      <td>36</td>\n",
              "      <td>10</td>\n",
              "      <td>9</td>\n",
              "      <td>UK</td>\n",
              "      <td>NO</td>\n",
              "    </tr>\n",
              "    <tr>\n",
              "      <th>1</th>\n",
              "      <td>42</td>\n",
              "      <td>12</td>\n",
              "      <td>4</td>\n",
              "      <td>USA</td>\n",
              "      <td>NO</td>\n",
              "    </tr>\n",
              "    <tr>\n",
              "      <th>2</th>\n",
              "      <td>23</td>\n",
              "      <td>4</td>\n",
              "      <td>6</td>\n",
              "      <td>N</td>\n",
              "      <td>NO</td>\n",
              "    </tr>\n",
              "    <tr>\n",
              "      <th>3</th>\n",
              "      <td>52</td>\n",
              "      <td>4</td>\n",
              "      <td>4</td>\n",
              "      <td>USA</td>\n",
              "      <td>NO</td>\n",
              "    </tr>\n",
              "    <tr>\n",
              "      <th>4</th>\n",
              "      <td>43</td>\n",
              "      <td>21</td>\n",
              "      <td>8</td>\n",
              "      <td>USA</td>\n",
              "      <td>YES</td>\n",
              "    </tr>\n",
              "    <tr>\n",
              "      <th>5</th>\n",
              "      <td>44</td>\n",
              "      <td>14</td>\n",
              "      <td>5</td>\n",
              "      <td>UK</td>\n",
              "      <td>NO</td>\n",
              "    </tr>\n",
              "    <tr>\n",
              "      <th>6</th>\n",
              "      <td>66</td>\n",
              "      <td>3</td>\n",
              "      <td>7</td>\n",
              "      <td>N</td>\n",
              "      <td>YES</td>\n",
              "    </tr>\n",
              "    <tr>\n",
              "      <th>7</th>\n",
              "      <td>35</td>\n",
              "      <td>14</td>\n",
              "      <td>9</td>\n",
              "      <td>UK</td>\n",
              "      <td>YES</td>\n",
              "    </tr>\n",
              "    <tr>\n",
              "      <th>8</th>\n",
              "      <td>52</td>\n",
              "      <td>13</td>\n",
              "      <td>7</td>\n",
              "      <td>N</td>\n",
              "      <td>YES</td>\n",
              "    </tr>\n",
              "    <tr>\n",
              "      <th>9</th>\n",
              "      <td>35</td>\n",
              "      <td>5</td>\n",
              "      <td>9</td>\n",
              "      <td>N</td>\n",
              "      <td>YES</td>\n",
              "    </tr>\n",
              "    <tr>\n",
              "      <th>10</th>\n",
              "      <td>24</td>\n",
              "      <td>3</td>\n",
              "      <td>5</td>\n",
              "      <td>USA</td>\n",
              "      <td>NO</td>\n",
              "    </tr>\n",
              "    <tr>\n",
              "      <th>11</th>\n",
              "      <td>18</td>\n",
              "      <td>3</td>\n",
              "      <td>7</td>\n",
              "      <td>UK</td>\n",
              "      <td>YES</td>\n",
              "    </tr>\n",
              "    <tr>\n",
              "      <th>12</th>\n",
              "      <td>45</td>\n",
              "      <td>9</td>\n",
              "      <td>9</td>\n",
              "      <td>UK</td>\n",
              "      <td>YES</td>\n",
              "    </tr>\n",
              "  </tbody>\n",
              "</table>\n",
              "</div>\n",
              "      <button class=\"colab-df-convert\" onclick=\"convertToInteractive('df-dc4f9a20-bde4-44a9-8bcd-1450c312af5c')\"\n",
              "              title=\"Convert this dataframe to an interactive table.\"\n",
              "              style=\"display:none;\">\n",
              "        \n",
              "  <svg xmlns=\"http://www.w3.org/2000/svg\" height=\"24px\"viewBox=\"0 0 24 24\"\n",
              "       width=\"24px\">\n",
              "    <path d=\"M0 0h24v24H0V0z\" fill=\"none\"/>\n",
              "    <path d=\"M18.56 5.44l.94 2.06.94-2.06 2.06-.94-2.06-.94-.94-2.06-.94 2.06-2.06.94zm-11 1L8.5 8.5l.94-2.06 2.06-.94-2.06-.94L8.5 2.5l-.94 2.06-2.06.94zm10 10l.94 2.06.94-2.06 2.06-.94-2.06-.94-.94-2.06-.94 2.06-2.06.94z\"/><path d=\"M17.41 7.96l-1.37-1.37c-.4-.4-.92-.59-1.43-.59-.52 0-1.04.2-1.43.59L10.3 9.45l-7.72 7.72c-.78.78-.78 2.05 0 2.83L4 21.41c.39.39.9.59 1.41.59.51 0 1.02-.2 1.41-.59l7.78-7.78 2.81-2.81c.8-.78.8-2.07 0-2.86zM5.41 20L4 18.59l7.72-7.72 1.47 1.35L5.41 20z\"/>\n",
              "  </svg>\n",
              "      </button>\n",
              "      \n",
              "  <style>\n",
              "    .colab-df-container {\n",
              "      display:flex;\n",
              "      flex-wrap:wrap;\n",
              "      gap: 12px;\n",
              "    }\n",
              "\n",
              "    .colab-df-convert {\n",
              "      background-color: #E8F0FE;\n",
              "      border: none;\n",
              "      border-radius: 50%;\n",
              "      cursor: pointer;\n",
              "      display: none;\n",
              "      fill: #1967D2;\n",
              "      height: 32px;\n",
              "      padding: 0 0 0 0;\n",
              "      width: 32px;\n",
              "    }\n",
              "\n",
              "    .colab-df-convert:hover {\n",
              "      background-color: #E2EBFA;\n",
              "      box-shadow: 0px 1px 2px rgba(60, 64, 67, 0.3), 0px 1px 3px 1px rgba(60, 64, 67, 0.15);\n",
              "      fill: #174EA6;\n",
              "    }\n",
              "\n",
              "    [theme=dark] .colab-df-convert {\n",
              "      background-color: #3B4455;\n",
              "      fill: #D2E3FC;\n",
              "    }\n",
              "\n",
              "    [theme=dark] .colab-df-convert:hover {\n",
              "      background-color: #434B5C;\n",
              "      box-shadow: 0px 1px 3px 1px rgba(0, 0, 0, 0.15);\n",
              "      filter: drop-shadow(0px 1px 2px rgba(0, 0, 0, 0.3));\n",
              "      fill: #FFFFFF;\n",
              "    }\n",
              "  </style>\n",
              "\n",
              "      <script>\n",
              "        const buttonEl =\n",
              "          document.querySelector('#df-dc4f9a20-bde4-44a9-8bcd-1450c312af5c button.colab-df-convert');\n",
              "        buttonEl.style.display =\n",
              "          google.colab.kernel.accessAllowed ? 'block' : 'none';\n",
              "\n",
              "        async function convertToInteractive(key) {\n",
              "          const element = document.querySelector('#df-dc4f9a20-bde4-44a9-8bcd-1450c312af5c');\n",
              "          const dataTable =\n",
              "            await google.colab.kernel.invokeFunction('convertToInteractive',\n",
              "                                                     [key], {});\n",
              "          if (!dataTable) return;\n",
              "\n",
              "          const docLinkHtml = 'Like what you see? Visit the ' +\n",
              "            '<a target=\"_blank\" href=https://colab.research.google.com/notebooks/data_table.ipynb>data table notebook</a>'\n",
              "            + ' to learn more about interactive tables.';\n",
              "          element.innerHTML = '';\n",
              "          dataTable['output_type'] = 'display_data';\n",
              "          await google.colab.output.renderOutput(dataTable, element);\n",
              "          const docLink = document.createElement('div');\n",
              "          docLink.innerHTML = docLinkHtml;\n",
              "          element.appendChild(docLink);\n",
              "        }\n",
              "      </script>\n",
              "    </div>\n",
              "  </div>\n",
              "  "
            ]
          },
          "metadata": {},
          "execution_count": 7
        }
      ]
    },
    {
      "cell_type": "code",
      "source": [
        "countries = {\"USA\":0,\"UK\":1,\"N\":2}"
      ],
      "metadata": {
        "id": "fooWctnr8Ekn"
      },
      "execution_count": 8,
      "outputs": []
    },
    {
      "cell_type": "code",
      "source": [
        "df[\"Nationality\"] = df[\"Nationality\"].map(countries)"
      ],
      "metadata": {
        "id": "d55VSzi48KsH"
      },
      "execution_count": 9,
      "outputs": []
    },
    {
      "cell_type": "code",
      "source": [
        "df"
      ],
      "metadata": {
        "colab": {
          "base_uri": "https://localhost:8080/",
          "height": 457
        },
        "id": "n8VyneKB8Qom",
        "outputId": "622f9f9f-9f1a-43d6-edba-f426b1e54295"
      },
      "execution_count": 10,
      "outputs": [
        {
          "output_type": "execute_result",
          "data": {
            "text/plain": [
              "    Age  Experience  Rank  Nationality   Go\n",
              "0    36          10     9            1   NO\n",
              "1    42          12     4            0   NO\n",
              "2    23           4     6            2   NO\n",
              "3    52           4     4            0   NO\n",
              "4    43          21     8            0  YES\n",
              "5    44          14     5            1   NO\n",
              "6    66           3     7            2  YES\n",
              "7    35          14     9            1  YES\n",
              "8    52          13     7            2  YES\n",
              "9    35           5     9            2  YES\n",
              "10   24           3     5            0   NO\n",
              "11   18           3     7            1  YES\n",
              "12   45           9     9            1  YES"
            ],
            "text/html": [
              "\n",
              "  <div id=\"df-a346d3b8-88d4-4670-8c5f-1d34a6f03a88\">\n",
              "    <div class=\"colab-df-container\">\n",
              "      <div>\n",
              "<style scoped>\n",
              "    .dataframe tbody tr th:only-of-type {\n",
              "        vertical-align: middle;\n",
              "    }\n",
              "\n",
              "    .dataframe tbody tr th {\n",
              "        vertical-align: top;\n",
              "    }\n",
              "\n",
              "    .dataframe thead th {\n",
              "        text-align: right;\n",
              "    }\n",
              "</style>\n",
              "<table border=\"1\" class=\"dataframe\">\n",
              "  <thead>\n",
              "    <tr style=\"text-align: right;\">\n",
              "      <th></th>\n",
              "      <th>Age</th>\n",
              "      <th>Experience</th>\n",
              "      <th>Rank</th>\n",
              "      <th>Nationality</th>\n",
              "      <th>Go</th>\n",
              "    </tr>\n",
              "  </thead>\n",
              "  <tbody>\n",
              "    <tr>\n",
              "      <th>0</th>\n",
              "      <td>36</td>\n",
              "      <td>10</td>\n",
              "      <td>9</td>\n",
              "      <td>1</td>\n",
              "      <td>NO</td>\n",
              "    </tr>\n",
              "    <tr>\n",
              "      <th>1</th>\n",
              "      <td>42</td>\n",
              "      <td>12</td>\n",
              "      <td>4</td>\n",
              "      <td>0</td>\n",
              "      <td>NO</td>\n",
              "    </tr>\n",
              "    <tr>\n",
              "      <th>2</th>\n",
              "      <td>23</td>\n",
              "      <td>4</td>\n",
              "      <td>6</td>\n",
              "      <td>2</td>\n",
              "      <td>NO</td>\n",
              "    </tr>\n",
              "    <tr>\n",
              "      <th>3</th>\n",
              "      <td>52</td>\n",
              "      <td>4</td>\n",
              "      <td>4</td>\n",
              "      <td>0</td>\n",
              "      <td>NO</td>\n",
              "    </tr>\n",
              "    <tr>\n",
              "      <th>4</th>\n",
              "      <td>43</td>\n",
              "      <td>21</td>\n",
              "      <td>8</td>\n",
              "      <td>0</td>\n",
              "      <td>YES</td>\n",
              "    </tr>\n",
              "    <tr>\n",
              "      <th>5</th>\n",
              "      <td>44</td>\n",
              "      <td>14</td>\n",
              "      <td>5</td>\n",
              "      <td>1</td>\n",
              "      <td>NO</td>\n",
              "    </tr>\n",
              "    <tr>\n",
              "      <th>6</th>\n",
              "      <td>66</td>\n",
              "      <td>3</td>\n",
              "      <td>7</td>\n",
              "      <td>2</td>\n",
              "      <td>YES</td>\n",
              "    </tr>\n",
              "    <tr>\n",
              "      <th>7</th>\n",
              "      <td>35</td>\n",
              "      <td>14</td>\n",
              "      <td>9</td>\n",
              "      <td>1</td>\n",
              "      <td>YES</td>\n",
              "    </tr>\n",
              "    <tr>\n",
              "      <th>8</th>\n",
              "      <td>52</td>\n",
              "      <td>13</td>\n",
              "      <td>7</td>\n",
              "      <td>2</td>\n",
              "      <td>YES</td>\n",
              "    </tr>\n",
              "    <tr>\n",
              "      <th>9</th>\n",
              "      <td>35</td>\n",
              "      <td>5</td>\n",
              "      <td>9</td>\n",
              "      <td>2</td>\n",
              "      <td>YES</td>\n",
              "    </tr>\n",
              "    <tr>\n",
              "      <th>10</th>\n",
              "      <td>24</td>\n",
              "      <td>3</td>\n",
              "      <td>5</td>\n",
              "      <td>0</td>\n",
              "      <td>NO</td>\n",
              "    </tr>\n",
              "    <tr>\n",
              "      <th>11</th>\n",
              "      <td>18</td>\n",
              "      <td>3</td>\n",
              "      <td>7</td>\n",
              "      <td>1</td>\n",
              "      <td>YES</td>\n",
              "    </tr>\n",
              "    <tr>\n",
              "      <th>12</th>\n",
              "      <td>45</td>\n",
              "      <td>9</td>\n",
              "      <td>9</td>\n",
              "      <td>1</td>\n",
              "      <td>YES</td>\n",
              "    </tr>\n",
              "  </tbody>\n",
              "</table>\n",
              "</div>\n",
              "      <button class=\"colab-df-convert\" onclick=\"convertToInteractive('df-a346d3b8-88d4-4670-8c5f-1d34a6f03a88')\"\n",
              "              title=\"Convert this dataframe to an interactive table.\"\n",
              "              style=\"display:none;\">\n",
              "        \n",
              "  <svg xmlns=\"http://www.w3.org/2000/svg\" height=\"24px\"viewBox=\"0 0 24 24\"\n",
              "       width=\"24px\">\n",
              "    <path d=\"M0 0h24v24H0V0z\" fill=\"none\"/>\n",
              "    <path d=\"M18.56 5.44l.94 2.06.94-2.06 2.06-.94-2.06-.94-.94-2.06-.94 2.06-2.06.94zm-11 1L8.5 8.5l.94-2.06 2.06-.94-2.06-.94L8.5 2.5l-.94 2.06-2.06.94zm10 10l.94 2.06.94-2.06 2.06-.94-2.06-.94-.94-2.06-.94 2.06-2.06.94z\"/><path d=\"M17.41 7.96l-1.37-1.37c-.4-.4-.92-.59-1.43-.59-.52 0-1.04.2-1.43.59L10.3 9.45l-7.72 7.72c-.78.78-.78 2.05 0 2.83L4 21.41c.39.39.9.59 1.41.59.51 0 1.02-.2 1.41-.59l7.78-7.78 2.81-2.81c.8-.78.8-2.07 0-2.86zM5.41 20L4 18.59l7.72-7.72 1.47 1.35L5.41 20z\"/>\n",
              "  </svg>\n",
              "      </button>\n",
              "      \n",
              "  <style>\n",
              "    .colab-df-container {\n",
              "      display:flex;\n",
              "      flex-wrap:wrap;\n",
              "      gap: 12px;\n",
              "    }\n",
              "\n",
              "    .colab-df-convert {\n",
              "      background-color: #E8F0FE;\n",
              "      border: none;\n",
              "      border-radius: 50%;\n",
              "      cursor: pointer;\n",
              "      display: none;\n",
              "      fill: #1967D2;\n",
              "      height: 32px;\n",
              "      padding: 0 0 0 0;\n",
              "      width: 32px;\n",
              "    }\n",
              "\n",
              "    .colab-df-convert:hover {\n",
              "      background-color: #E2EBFA;\n",
              "      box-shadow: 0px 1px 2px rgba(60, 64, 67, 0.3), 0px 1px 3px 1px rgba(60, 64, 67, 0.15);\n",
              "      fill: #174EA6;\n",
              "    }\n",
              "\n",
              "    [theme=dark] .colab-df-convert {\n",
              "      background-color: #3B4455;\n",
              "      fill: #D2E3FC;\n",
              "    }\n",
              "\n",
              "    [theme=dark] .colab-df-convert:hover {\n",
              "      background-color: #434B5C;\n",
              "      box-shadow: 0px 1px 3px 1px rgba(0, 0, 0, 0.15);\n",
              "      filter: drop-shadow(0px 1px 2px rgba(0, 0, 0, 0.3));\n",
              "      fill: #FFFFFF;\n",
              "    }\n",
              "  </style>\n",
              "\n",
              "      <script>\n",
              "        const buttonEl =\n",
              "          document.querySelector('#df-a346d3b8-88d4-4670-8c5f-1d34a6f03a88 button.colab-df-convert');\n",
              "        buttonEl.style.display =\n",
              "          google.colab.kernel.accessAllowed ? 'block' : 'none';\n",
              "\n",
              "        async function convertToInteractive(key) {\n",
              "          const element = document.querySelector('#df-a346d3b8-88d4-4670-8c5f-1d34a6f03a88');\n",
              "          const dataTable =\n",
              "            await google.colab.kernel.invokeFunction('convertToInteractive',\n",
              "                                                     [key], {});\n",
              "          if (!dataTable) return;\n",
              "\n",
              "          const docLinkHtml = 'Like what you see? Visit the ' +\n",
              "            '<a target=\"_blank\" href=https://colab.research.google.com/notebooks/data_table.ipynb>data table notebook</a>'\n",
              "            + ' to learn more about interactive tables.';\n",
              "          element.innerHTML = '';\n",
              "          dataTable['output_type'] = 'display_data';\n",
              "          await google.colab.output.renderOutput(dataTable, element);\n",
              "          const docLink = document.createElement('div');\n",
              "          docLink.innerHTML = docLinkHtml;\n",
              "          element.appendChild(docLink);\n",
              "        }\n",
              "      </script>\n",
              "    </div>\n",
              "  </div>\n",
              "  "
            ]
          },
          "metadata": {},
          "execution_count": 10
        }
      ]
    },
    {
      "cell_type": "code",
      "source": [
        "go = {\"YES\":1,\"NO\":0}"
      ],
      "metadata": {
        "id": "2hxl2KGi8RHn"
      },
      "execution_count": 11,
      "outputs": []
    },
    {
      "cell_type": "code",
      "source": [
        "df[\"Go\"] = df[\"Go\"].map(go)"
      ],
      "metadata": {
        "id": "hAb5CsPN8Xv_"
      },
      "execution_count": 12,
      "outputs": []
    },
    {
      "cell_type": "code",
      "source": [
        "df"
      ],
      "metadata": {
        "colab": {
          "base_uri": "https://localhost:8080/",
          "height": 457
        },
        "id": "O_CZHowZ8bOn",
        "outputId": "2a2a552e-9411-420b-e52f-c9bc557db8c6"
      },
      "execution_count": 13,
      "outputs": [
        {
          "output_type": "execute_result",
          "data": {
            "text/plain": [
              "    Age  Experience  Rank  Nationality  Go\n",
              "0    36          10     9            1   0\n",
              "1    42          12     4            0   0\n",
              "2    23           4     6            2   0\n",
              "3    52           4     4            0   0\n",
              "4    43          21     8            0   1\n",
              "5    44          14     5            1   0\n",
              "6    66           3     7            2   1\n",
              "7    35          14     9            1   1\n",
              "8    52          13     7            2   1\n",
              "9    35           5     9            2   1\n",
              "10   24           3     5            0   0\n",
              "11   18           3     7            1   1\n",
              "12   45           9     9            1   1"
            ],
            "text/html": [
              "\n",
              "  <div id=\"df-2904c1bf-551e-4676-813d-2113292d3120\">\n",
              "    <div class=\"colab-df-container\">\n",
              "      <div>\n",
              "<style scoped>\n",
              "    .dataframe tbody tr th:only-of-type {\n",
              "        vertical-align: middle;\n",
              "    }\n",
              "\n",
              "    .dataframe tbody tr th {\n",
              "        vertical-align: top;\n",
              "    }\n",
              "\n",
              "    .dataframe thead th {\n",
              "        text-align: right;\n",
              "    }\n",
              "</style>\n",
              "<table border=\"1\" class=\"dataframe\">\n",
              "  <thead>\n",
              "    <tr style=\"text-align: right;\">\n",
              "      <th></th>\n",
              "      <th>Age</th>\n",
              "      <th>Experience</th>\n",
              "      <th>Rank</th>\n",
              "      <th>Nationality</th>\n",
              "      <th>Go</th>\n",
              "    </tr>\n",
              "  </thead>\n",
              "  <tbody>\n",
              "    <tr>\n",
              "      <th>0</th>\n",
              "      <td>36</td>\n",
              "      <td>10</td>\n",
              "      <td>9</td>\n",
              "      <td>1</td>\n",
              "      <td>0</td>\n",
              "    </tr>\n",
              "    <tr>\n",
              "      <th>1</th>\n",
              "      <td>42</td>\n",
              "      <td>12</td>\n",
              "      <td>4</td>\n",
              "      <td>0</td>\n",
              "      <td>0</td>\n",
              "    </tr>\n",
              "    <tr>\n",
              "      <th>2</th>\n",
              "      <td>23</td>\n",
              "      <td>4</td>\n",
              "      <td>6</td>\n",
              "      <td>2</td>\n",
              "      <td>0</td>\n",
              "    </tr>\n",
              "    <tr>\n",
              "      <th>3</th>\n",
              "      <td>52</td>\n",
              "      <td>4</td>\n",
              "      <td>4</td>\n",
              "      <td>0</td>\n",
              "      <td>0</td>\n",
              "    </tr>\n",
              "    <tr>\n",
              "      <th>4</th>\n",
              "      <td>43</td>\n",
              "      <td>21</td>\n",
              "      <td>8</td>\n",
              "      <td>0</td>\n",
              "      <td>1</td>\n",
              "    </tr>\n",
              "    <tr>\n",
              "      <th>5</th>\n",
              "      <td>44</td>\n",
              "      <td>14</td>\n",
              "      <td>5</td>\n",
              "      <td>1</td>\n",
              "      <td>0</td>\n",
              "    </tr>\n",
              "    <tr>\n",
              "      <th>6</th>\n",
              "      <td>66</td>\n",
              "      <td>3</td>\n",
              "      <td>7</td>\n",
              "      <td>2</td>\n",
              "      <td>1</td>\n",
              "    </tr>\n",
              "    <tr>\n",
              "      <th>7</th>\n",
              "      <td>35</td>\n",
              "      <td>14</td>\n",
              "      <td>9</td>\n",
              "      <td>1</td>\n",
              "      <td>1</td>\n",
              "    </tr>\n",
              "    <tr>\n",
              "      <th>8</th>\n",
              "      <td>52</td>\n",
              "      <td>13</td>\n",
              "      <td>7</td>\n",
              "      <td>2</td>\n",
              "      <td>1</td>\n",
              "    </tr>\n",
              "    <tr>\n",
              "      <th>9</th>\n",
              "      <td>35</td>\n",
              "      <td>5</td>\n",
              "      <td>9</td>\n",
              "      <td>2</td>\n",
              "      <td>1</td>\n",
              "    </tr>\n",
              "    <tr>\n",
              "      <th>10</th>\n",
              "      <td>24</td>\n",
              "      <td>3</td>\n",
              "      <td>5</td>\n",
              "      <td>0</td>\n",
              "      <td>0</td>\n",
              "    </tr>\n",
              "    <tr>\n",
              "      <th>11</th>\n",
              "      <td>18</td>\n",
              "      <td>3</td>\n",
              "      <td>7</td>\n",
              "      <td>1</td>\n",
              "      <td>1</td>\n",
              "    </tr>\n",
              "    <tr>\n",
              "      <th>12</th>\n",
              "      <td>45</td>\n",
              "      <td>9</td>\n",
              "      <td>9</td>\n",
              "      <td>1</td>\n",
              "      <td>1</td>\n",
              "    </tr>\n",
              "  </tbody>\n",
              "</table>\n",
              "</div>\n",
              "      <button class=\"colab-df-convert\" onclick=\"convertToInteractive('df-2904c1bf-551e-4676-813d-2113292d3120')\"\n",
              "              title=\"Convert this dataframe to an interactive table.\"\n",
              "              style=\"display:none;\">\n",
              "        \n",
              "  <svg xmlns=\"http://www.w3.org/2000/svg\" height=\"24px\"viewBox=\"0 0 24 24\"\n",
              "       width=\"24px\">\n",
              "    <path d=\"M0 0h24v24H0V0z\" fill=\"none\"/>\n",
              "    <path d=\"M18.56 5.44l.94 2.06.94-2.06 2.06-.94-2.06-.94-.94-2.06-.94 2.06-2.06.94zm-11 1L8.5 8.5l.94-2.06 2.06-.94-2.06-.94L8.5 2.5l-.94 2.06-2.06.94zm10 10l.94 2.06.94-2.06 2.06-.94-2.06-.94-.94-2.06-.94 2.06-2.06.94z\"/><path d=\"M17.41 7.96l-1.37-1.37c-.4-.4-.92-.59-1.43-.59-.52 0-1.04.2-1.43.59L10.3 9.45l-7.72 7.72c-.78.78-.78 2.05 0 2.83L4 21.41c.39.39.9.59 1.41.59.51 0 1.02-.2 1.41-.59l7.78-7.78 2.81-2.81c.8-.78.8-2.07 0-2.86zM5.41 20L4 18.59l7.72-7.72 1.47 1.35L5.41 20z\"/>\n",
              "  </svg>\n",
              "      </button>\n",
              "      \n",
              "  <style>\n",
              "    .colab-df-container {\n",
              "      display:flex;\n",
              "      flex-wrap:wrap;\n",
              "      gap: 12px;\n",
              "    }\n",
              "\n",
              "    .colab-df-convert {\n",
              "      background-color: #E8F0FE;\n",
              "      border: none;\n",
              "      border-radius: 50%;\n",
              "      cursor: pointer;\n",
              "      display: none;\n",
              "      fill: #1967D2;\n",
              "      height: 32px;\n",
              "      padding: 0 0 0 0;\n",
              "      width: 32px;\n",
              "    }\n",
              "\n",
              "    .colab-df-convert:hover {\n",
              "      background-color: #E2EBFA;\n",
              "      box-shadow: 0px 1px 2px rgba(60, 64, 67, 0.3), 0px 1px 3px 1px rgba(60, 64, 67, 0.15);\n",
              "      fill: #174EA6;\n",
              "    }\n",
              "\n",
              "    [theme=dark] .colab-df-convert {\n",
              "      background-color: #3B4455;\n",
              "      fill: #D2E3FC;\n",
              "    }\n",
              "\n",
              "    [theme=dark] .colab-df-convert:hover {\n",
              "      background-color: #434B5C;\n",
              "      box-shadow: 0px 1px 3px 1px rgba(0, 0, 0, 0.15);\n",
              "      filter: drop-shadow(0px 1px 2px rgba(0, 0, 0, 0.3));\n",
              "      fill: #FFFFFF;\n",
              "    }\n",
              "  </style>\n",
              "\n",
              "      <script>\n",
              "        const buttonEl =\n",
              "          document.querySelector('#df-2904c1bf-551e-4676-813d-2113292d3120 button.colab-df-convert');\n",
              "        buttonEl.style.display =\n",
              "          google.colab.kernel.accessAllowed ? 'block' : 'none';\n",
              "\n",
              "        async function convertToInteractive(key) {\n",
              "          const element = document.querySelector('#df-2904c1bf-551e-4676-813d-2113292d3120');\n",
              "          const dataTable =\n",
              "            await google.colab.kernel.invokeFunction('convertToInteractive',\n",
              "                                                     [key], {});\n",
              "          if (!dataTable) return;\n",
              "\n",
              "          const docLinkHtml = 'Like what you see? Visit the ' +\n",
              "            '<a target=\"_blank\" href=https://colab.research.google.com/notebooks/data_table.ipynb>data table notebook</a>'\n",
              "            + ' to learn more about interactive tables.';\n",
              "          element.innerHTML = '';\n",
              "          dataTable['output_type'] = 'display_data';\n",
              "          await google.colab.output.renderOutput(dataTable, element);\n",
              "          const docLink = document.createElement('div');\n",
              "          docLink.innerHTML = docLinkHtml;\n",
              "          element.appendChild(docLink);\n",
              "        }\n",
              "      </script>\n",
              "    </div>\n",
              "  </div>\n",
              "  "
            ]
          },
          "metadata": {},
          "execution_count": 13
        }
      ]
    },
    {
      "cell_type": "code",
      "source": [
        "dtree = DecisionTreeClassifier()"
      ],
      "metadata": {
        "id": "sEDJUy9g8bsm"
      },
      "execution_count": 14,
      "outputs": []
    },
    {
      "cell_type": "code",
      "source": [
        "dtree.fit(df.drop([\"Go\"],axis = 1) , df[\"Go\"])"
      ],
      "metadata": {
        "colab": {
          "base_uri": "https://localhost:8080/"
        },
        "id": "GuDvUfGC8fdO",
        "outputId": "e60a86ea-7de4-479a-a419-88b332712844"
      },
      "execution_count": 15,
      "outputs": [
        {
          "output_type": "execute_result",
          "data": {
            "text/plain": [
              "DecisionTreeClassifier()"
            ]
          },
          "metadata": {},
          "execution_count": 15
        }
      ]
    },
    {
      "cell_type": "code",
      "source": [
        "tree.plot_tree(dtree,feature_names = [\"Age\",\"Experience\",\"Rank\",\"Nationality\"])"
      ],
      "metadata": {
        "colab": {
          "base_uri": "https://localhost:8080/",
          "height": 370
        },
        "id": "0tg2Coao8m3-",
        "outputId": "8d174e2b-9b36-4700-d578-99216d95e04a"
      },
      "execution_count": 27,
      "outputs": [
        {
          "output_type": "execute_result",
          "data": {
            "text/plain": [
              "[Text(0.4, 0.875, 'Rank <= 6.5\\ngini = 0.497\\nsamples = 13\\nvalue = [6, 7]'),\n",
              " Text(0.2, 0.625, 'gini = 0.0\\nsamples = 5\\nvalue = [5, 0]'),\n",
              " Text(0.6, 0.625, 'Age <= 39.5\\ngini = 0.219\\nsamples = 8\\nvalue = [1, 7]'),\n",
              " Text(0.4, 0.375, 'Age <= 35.5\\ngini = 0.375\\nsamples = 4\\nvalue = [1, 3]'),\n",
              " Text(0.2, 0.125, 'gini = 0.0\\nsamples = 3\\nvalue = [0, 3]'),\n",
              " Text(0.6, 0.125, 'gini = 0.0\\nsamples = 1\\nvalue = [1, 0]'),\n",
              " Text(0.8, 0.375, 'gini = 0.0\\nsamples = 4\\nvalue = [0, 4]')]"
            ]
          },
          "metadata": {},
          "execution_count": 27
        },
        {
          "output_type": "display_data",
          "data": {
            "text/plain": [
              "<Figure size 432x288 with 1 Axes>"
            ],
            "image/png": "[encoded data removed]"
          },
          "metadata": {
            "needs_background": "light"
          }
        }
      ]
    },
    {
      "cell_type": "code",
      "source": [
        "print(dtree.predict([[40, 10, 7, 1]]))"
      ],
      "metadata": {
        "colab": {
          "base_uri": "https://localhost:8080/"
        },
        "id": "J8TohkD48wRn",
        "outputId": "ddd143cb-2d87-421c-f320-a1ef45f35a55"
      },
      "execution_count": 30,
      "outputs": [
        {
          "output_type": "stream",
          "name": "stdout",
          "text": [
            "[1]\n"
          ]
        },
        {
          "output_type": "stream",
          "name": "stderr",
          "text": [
            "/usr/local/lib/python3.8/dist-packages/sklearn/base.py:450: UserWarning: X does not have valid feature names, but DecisionTreeClassifier was fitted with feature names\n",
            "  warnings.warn(\n"
          ]
        }
      ]
    },
    {
      "cell_type": "code",
      "source": [
        "print(dtree.predict([[40, 10, 6, 1]]))"
      ],
      "metadata": {
        "colab": {
          "base_uri": "https://localhost:8080/"
        },
        "id": "oUlqmCuq-M5A",
        "outputId": "2f7ff00e-01e1-4079-9c22-bfcada6e99a7"
      },
      "execution_count": 31,
      "outputs": [
        {
          "output_type": "stream",
          "name": "stdout",
          "text": [
            "[0]\n"
          ]
        },
        {
          "output_type": "stream",
          "name": "stderr",
          "text": [
            "/usr/local/lib/python3.8/dist-packages/sklearn/base.py:450: UserWarning: X does not have valid feature names, but DecisionTreeClassifier was fitted with feature names\n",
            "  warnings.warn(\n"
          ]
        }
      ]
    },
    {
      "cell_type": "code",
      "source": [],
      "metadata": {
        "id": "Li4goO90-UDQ"
      },
      "execution_count": null,
      "outputs": []
    }
  ]
}